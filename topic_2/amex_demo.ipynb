{
 "cells": [
  {
   "cell_type": "code",
   "execution_count": 1,
   "id": "353c60aa",
   "metadata": {},
   "outputs": [],
   "source": [
    "import os\n",
    "import sys\n",
    "import json\n",
    "import datetime\n",
    "import numpy as np\n",
    "import pandas as pd\n",
    "import matplotlib.pyplot as plt\n",
    "from pyspark import SparkContext, SparkConf\n",
    "from pyspark.sql import SparkSession\n",
    "from pyspark.sql import functions as F\n",
    "from pyspark.sql.types import *\n",
    "from pyspark.sql.functions import udf, struct, count_distinct, from_unixtime\n",
    "import multiprocessing"
   ]
  },
  {
   "cell_type": "code",
   "execution_count": 2,
   "id": "a96bd97a",
   "metadata": {},
   "outputs": [
    {
     "name": "stderr",
     "output_type": "stream",
     "text": [
      "22/11/17 13:47:42 WARN NativeCodeLoader: Unable to load native-hadoop library for your platform... using builtin-java classes where applicable\n",
      "Using Spark's default log4j profile: org/apache/spark/log4j-defaults.properties\n",
      "Setting default log level to \"WARN\".\n",
      "To adjust logging level use sc.setLogLevel(newLevel). For SparkR, use setLogLevel(newLevel).\n"
     ]
    }
   ],
   "source": [
    "conf = SparkConf()\n",
    "conf.set('spark.master', 'local[5]')\n",
    "conf.set('spark.executor.memory', '2G')\n",
    "sc = SparkContext(conf=conf)\n",
    "spark = SparkSession(sc)"
   ]
  },
  {
   "cell_type": "code",
   "execution_count": 3,
   "id": "8657a66d",
   "metadata": {},
   "outputs": [
    {
     "name": "stderr",
     "output_type": "stream",
     "text": [
      "                                                                                \r"
     ]
    }
   ],
   "source": [
    "file_path = '/home/jovyan/__AMEX/test_data.csv'\n",
    "sdf = spark.read.csv(file_path, header=True)"
   ]
  },
  {
   "cell_type": "code",
   "execution_count": 4,
   "id": "2ca49e6d",
   "metadata": {},
   "outputs": [
    {
     "name": "stderr",
     "output_type": "stream",
     "text": [
      "22/11/17 13:47:51 WARN package: Truncated the string representation of a plan since it was too large. This behavior can be adjusted by setting 'spark.sql.debug.maxToStringFields'.\n",
      "/opt/conda/lib/python3.9/site-packages/pyspark/sql/pandas/conversion.py:202: PerformanceWarning: DataFrame is highly fragmented.  This is usually the result of calling `frame.insert` many times, which has poor performance.  Consider joining all columns at once using pd.concat(axis=1) instead.  To get a de-fragmented frame, use `newframe = frame.copy()`\n",
      "  df[column_name] = series\n"
     ]
    },
    {
     "data": {
      "text/html": [
       "<div>\n",
       "<style scoped>\n",
       "    .dataframe tbody tr th:only-of-type {\n",
       "        vertical-align: middle;\n",
       "    }\n",
       "\n",
       "    .dataframe tbody tr th {\n",
       "        vertical-align: top;\n",
       "    }\n",
       "\n",
       "    .dataframe thead th {\n",
       "        text-align: right;\n",
       "    }\n",
       "</style>\n",
       "<table border=\"1\" class=\"dataframe\">\n",
       "  <thead>\n",
       "    <tr style=\"text-align: right;\">\n",
       "      <th></th>\n",
       "      <th>customer_ID</th>\n",
       "      <th>S_2</th>\n",
       "      <th>P_2</th>\n",
       "      <th>D_39</th>\n",
       "      <th>B_1</th>\n",
       "      <th>B_2</th>\n",
       "      <th>R_1</th>\n",
       "      <th>S_3</th>\n",
       "      <th>D_41</th>\n",
       "      <th>B_3</th>\n",
       "      <th>...</th>\n",
       "      <th>D_136</th>\n",
       "      <th>D_137</th>\n",
       "      <th>D_138</th>\n",
       "      <th>D_139</th>\n",
       "      <th>D_140</th>\n",
       "      <th>D_141</th>\n",
       "      <th>D_142</th>\n",
       "      <th>D_143</th>\n",
       "      <th>D_144</th>\n",
       "      <th>D_145</th>\n",
       "    </tr>\n",
       "  </thead>\n",
       "  <tbody>\n",
       "    <tr>\n",
       "      <th>0</th>\n",
       "      <td>00000469ba478561f23a92a868bd366de6f6527a684c9a...</td>\n",
       "      <td>2019-02-19</td>\n",
       "      <td>0.631315348870127</td>\n",
       "      <td>0.0019117764764965</td>\n",
       "      <td>0.0107280865415314</td>\n",
       "      <td>0.8144968588558597</td>\n",
       "      <td>0.0075468996994418</td>\n",
       "      <td>0.1686508406762685</td>\n",
       "      <td>0.0099714525530773</td>\n",
       "      <td>0.0023469930565875</td>\n",
       "      <td>...</td>\n",
       "      <td>None</td>\n",
       "      <td>None</td>\n",
       "      <td>None</td>\n",
       "      <td>None</td>\n",
       "      <td>0.0046687390870528</td>\n",
       "      <td>None</td>\n",
       "      <td>None</td>\n",
       "      <td>None</td>\n",
       "      <td>0.0082807231606915</td>\n",
       "      <td>None</td>\n",
       "    </tr>\n",
       "    <tr>\n",
       "      <th>1</th>\n",
       "      <td>00000469ba478561f23a92a868bd366de6f6527a684c9a...</td>\n",
       "      <td>2019-03-25</td>\n",
       "      <td>0.5870422600496985</td>\n",
       "      <td>0.0052751643361475</td>\n",
       "      <td>0.0110263694322631</td>\n",
       "      <td>0.8108478013948842</td>\n",
       "      <td>0.0018171296454829</td>\n",
       "      <td>0.2413889625766217</td>\n",
       "      <td>0.00016584141313932932</td>\n",
       "      <td>0.0091318432435674</td>\n",
       "      <td>...</td>\n",
       "      <td>None</td>\n",
       "      <td>None</td>\n",
       "      <td>None</td>\n",
       "      <td>0.0001420210291239854</td>\n",
       "      <td>0.004939899911698</td>\n",
       "      <td>0.0090213834243855</td>\n",
       "      <td>None</td>\n",
       "      <td>0.0036952732565555</td>\n",
       "      <td>0.003752937615896</td>\n",
       "      <td>0.0014599699636628</td>\n",
       "    </tr>\n",
       "    <tr>\n",
       "      <th>2</th>\n",
       "      <td>00000469ba478561f23a92a868bd366de6f6527a684c9a...</td>\n",
       "      <td>2019-04-25</td>\n",
       "      <td>0.609056086399499</td>\n",
       "      <td>0.0033255515795944</td>\n",
       "      <td>0.0163899547111051</td>\n",
       "      <td>1.0046204377263357</td>\n",
       "      <td>0.00011385173627081912</td>\n",
       "      <td>0.2669761673635372</td>\n",
       "      <td>0.0041960837134838</td>\n",
       "      <td>0.0041915117538253</td>\n",
       "      <td>...</td>\n",
       "      <td>None</td>\n",
       "      <td>None</td>\n",
       "      <td>None</td>\n",
       "      <td>7.412888484163106e-05</td>\n",
       "      <td>0.0021140603899732</td>\n",
       "      <td>0.0046563052524218</td>\n",
       "      <td>None</td>\n",
       "      <td>0.0031548510598543</td>\n",
       "      <td>0.0021562450424162</td>\n",
       "      <td>0.0064823796768577</td>\n",
       "    </tr>\n",
       "    <tr>\n",
       "      <th>3</th>\n",
       "      <td>00000469ba478561f23a92a868bd366de6f6527a684c9a...</td>\n",
       "      <td>2019-05-20</td>\n",
       "      <td>0.6149111732046417</td>\n",
       "      <td>0.0090646385392601</td>\n",
       "      <td>0.0216718794499841</td>\n",
       "      <td>0.8165485506797046</td>\n",
       "      <td>0.0097219768109759</td>\n",
       "      <td>0.1889469188595959</td>\n",
       "      <td>0.0041232573662345</td>\n",
       "      <td>0.0153252365586431</td>\n",
       "      <td>...</td>\n",
       "      <td>None</td>\n",
       "      <td>None</td>\n",
       "      <td>None</td>\n",
       "      <td>0.0047432604605391</td>\n",
       "      <td>0.0063924839314034</td>\n",
       "      <td>0.0028898648308047</td>\n",
       "      <td>None</td>\n",
       "      <td>0.0060443075576254</td>\n",
       "      <td>0.0052060027823573</td>\n",
       "      <td>0.0078546417568729</td>\n",
       "    </tr>\n",
       "    <tr>\n",
       "      <th>4</th>\n",
       "      <td>00000469ba478561f23a92a868bd366de6f6527a684c9a...</td>\n",
       "      <td>2019-06-15</td>\n",
       "      <td>0.5916728001946708</td>\n",
       "      <td>0.2387940614119742</td>\n",
       "      <td>0.0159229696665496</td>\n",
       "      <td>0.8104560849002189</td>\n",
       "      <td>0.0020262182221732</td>\n",
       "      <td>0.1800348589857536</td>\n",
       "      <td>0.0007314587099235914</td>\n",
       "      <td>0.0112806885679414</td>\n",
       "      <td>...</td>\n",
       "      <td>None</td>\n",
       "      <td>None</td>\n",
       "      <td>None</td>\n",
       "      <td>0.0081332381954749</td>\n",
       "      <td>0.0043291418077763</td>\n",
       "      <td>0.0083838696011743</td>\n",
       "      <td>None</td>\n",
       "      <td>0.0010084173537337</td>\n",
       "      <td>0.0074209562770936</td>\n",
       "      <td>0.009470804051453</td>\n",
       "    </tr>\n",
       "  </tbody>\n",
       "</table>\n",
       "<p>5 rows × 190 columns</p>\n",
       "</div>"
      ],
      "text/plain": [
       "                                         customer_ID         S_2  \\\n",
       "0  00000469ba478561f23a92a868bd366de6f6527a684c9a...  2019-02-19   \n",
       "1  00000469ba478561f23a92a868bd366de6f6527a684c9a...  2019-03-25   \n",
       "2  00000469ba478561f23a92a868bd366de6f6527a684c9a...  2019-04-25   \n",
       "3  00000469ba478561f23a92a868bd366de6f6527a684c9a...  2019-05-20   \n",
       "4  00000469ba478561f23a92a868bd366de6f6527a684c9a...  2019-06-15   \n",
       "\n",
       "                  P_2                D_39                 B_1  \\\n",
       "0   0.631315348870127  0.0019117764764965  0.0107280865415314   \n",
       "1  0.5870422600496985  0.0052751643361475  0.0110263694322631   \n",
       "2   0.609056086399499  0.0033255515795944  0.0163899547111051   \n",
       "3  0.6149111732046417  0.0090646385392601  0.0216718794499841   \n",
       "4  0.5916728001946708  0.2387940614119742  0.0159229696665496   \n",
       "\n",
       "                  B_2                     R_1                 S_3  \\\n",
       "0  0.8144968588558597      0.0075468996994418  0.1686508406762685   \n",
       "1  0.8108478013948842      0.0018171296454829  0.2413889625766217   \n",
       "2  1.0046204377263357  0.00011385173627081912  0.2669761673635372   \n",
       "3  0.8165485506797046      0.0097219768109759  0.1889469188595959   \n",
       "4  0.8104560849002189      0.0020262182221732  0.1800348589857536   \n",
       "\n",
       "                     D_41                 B_3  ... D_136 D_137 D_138  \\\n",
       "0      0.0099714525530773  0.0023469930565875  ...  None  None  None   \n",
       "1  0.00016584141313932932  0.0091318432435674  ...  None  None  None   \n",
       "2      0.0041960837134838  0.0041915117538253  ...  None  None  None   \n",
       "3      0.0041232573662345  0.0153252365586431  ...  None  None  None   \n",
       "4   0.0007314587099235914  0.0112806885679414  ...  None  None  None   \n",
       "\n",
       "                   D_139               D_140               D_141 D_142  \\\n",
       "0                   None  0.0046687390870528                None  None   \n",
       "1  0.0001420210291239854   0.004939899911698  0.0090213834243855  None   \n",
       "2  7.412888484163106e-05  0.0021140603899732  0.0046563052524218  None   \n",
       "3     0.0047432604605391  0.0063924839314034  0.0028898648308047  None   \n",
       "4     0.0081332381954749  0.0043291418077763  0.0083838696011743  None   \n",
       "\n",
       "                D_143               D_144               D_145  \n",
       "0                None  0.0082807231606915                None  \n",
       "1  0.0036952732565555   0.003752937615896  0.0014599699636628  \n",
       "2  0.0031548510598543  0.0021562450424162  0.0064823796768577  \n",
       "3  0.0060443075576254  0.0052060027823573  0.0078546417568729  \n",
       "4  0.0010084173537337  0.0074209562770936   0.009470804051453  \n",
       "\n",
       "[5 rows x 190 columns]"
      ]
     },
     "execution_count": 4,
     "metadata": {},
     "output_type": "execute_result"
    }
   ],
   "source": [
    "sdf.limit(5).toPandas()"
   ]
  },
  {
   "cell_type": "code",
   "execution_count": 5,
   "id": "f09a0ab1",
   "metadata": {},
   "outputs": [
    {
     "name": "stderr",
     "output_type": "stream",
     "text": [
      "                                                                                \r"
     ]
    },
    {
     "data": {
      "text/plain": [
       "11363762"
      ]
     },
     "execution_count": 5,
     "metadata": {},
     "output_type": "execute_result"
    }
   ],
   "source": [
    "sdf.count()"
   ]
  },
  {
   "cell_type": "code",
   "execution_count": null,
   "id": "5b596cc9",
   "metadata": {},
   "outputs": [],
   "source": []
  }
 ],
 "metadata": {
  "kernelspec": {
   "display_name": "Python 3 (ipykernel)",
   "language": "python",
   "name": "python3"
  },
  "language_info": {
   "codemirror_mode": {
    "name": "ipython",
    "version": 3
   },
   "file_extension": ".py",
   "mimetype": "text/x-python",
   "name": "python",
   "nbconvert_exporter": "python",
   "pygments_lexer": "ipython3",
   "version": "3.9.7"
  }
 },
 "nbformat": 4,
 "nbformat_minor": 5
}
