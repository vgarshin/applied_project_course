{
 "cells": [
  {
   "cell_type": "markdown",
   "id": "6d69e194",
   "metadata": {},
   "source": [
    "# Applied Project in Big Data on Industrial Dataset"
   ]
  },
  {
   "cell_type": "markdown",
   "id": "b70f087f",
   "metadata": {},
   "source": [
    "## MODELS SELECTION TECHNIQUES\n",
    "## Part IV. Model optimization"
   ]
  },
  {
   "cell_type": "markdown",
   "id": "5308fbc2",
   "metadata": {},
   "source": [
    "### 1. Libraries"
   ]
  },
  {
   "cell_type": "code",
   "execution_count": null,
   "id": "e24deff2",
   "metadata": {},
   "outputs": [],
   "source": [
    "!pip install optuna"
   ]
  },
  {
   "cell_type": "code",
   "execution_count": null,
   "id": "fe392c39",
   "metadata": {},
   "outputs": [],
   "source": [
    "import os\n",
    "import re\n",
    "import json\n",
    "import time\n",
    "import optuna\n",
    "import lightgbm as lgb\n",
    "import random\n",
    "import datetime\n",
    "import numpy as np\n",
    "import pandas as pd\n",
    "import multiprocessing\n",
    "from tqdm.auto import tqdm\n",
    "import matplotlib.pyplot as plt\n",
    "from sklearn.model_selection import (\n",
    "    train_test_split,\n",
    "    KFold\n",
    ")\n",
    "from sklearn.metrics import mean_squared_error\n",
    "pd.set_option('display.max_columns', None)\n",
    "N_CORES = min(\n",
    "    multiprocessing.cpu_count(), \n",
    "    int(float(os.environ['CPU_LIMIT']))\n",
    ")\n",
    "print('cores:', N_CORES)"
   ]
  },
  {
   "cell_type": "markdown",
   "id": "coordinate-drove",
   "metadata": {},
   "source": [
    "### 2. Create config and place to store artifacts"
   ]
  },
  {
   "cell_type": "code",
   "execution_count": null,
   "id": "edb2704d",
   "metadata": {},
   "outputs": [],
   "source": [
    "VER = 'lgb_v0'\n",
    "CONFIG = {\n",
    "    'version': VER,\n",
    "    'folds': 4,\n",
    "    'iters': 50,\n",
    "    'patience': 5,\n",
    "    'n_jobs': -1,\n",
    "    'seed': 2022,\n",
    "    'lr': .01,\n",
    "    'max_trials': 5,\n",
    "    'comments': ''\n",
    "}\n",
    "DATA_PATH = '.'\n",
    "MDLS_PATH = f'./models_{VER}'\n",
    "if not os.path.exists(MDLS_PATH):\n",
    "    os.mkdir(MDLS_PATH)\n",
    "with open(f'{MDLS_PATH}/config.json', 'w') as file:\n",
    "    json.dump(CONFIG, file)\n",
    "    \n",
    "def seed_all(seed):\n",
    "    random.seed(seed)\n",
    "    os.environ['PYTHONHASHSEED'] = str(seed)\n",
    "    np.random.seed(seed)\n",
    "\n",
    "seed_all(CONFIG['seed'])\n",
    "start_time = time.time()"
   ]
  },
  {
   "cell_type": "markdown",
   "id": "junior-thriller",
   "metadata": {},
   "source": [
    "### 3. Data"
   ]
  },
  {
   "cell_type": "markdown",
   "id": "monetary-ranch",
   "metadata": {},
   "source": [
    "#### 3.1. Data on options"
   ]
  },
  {
   "cell_type": "code",
   "execution_count": null,
   "id": "07a2cfdb",
   "metadata": {},
   "outputs": [],
   "source": [
    "%%time\n",
    "train = pd.read_csv(f'{DATA_PATH}/features.csv')\n",
    "print(train.shape)\n",
    "display(train.head())"
   ]
  },
  {
   "cell_type": "markdown",
   "id": "cardiovascular-pierce",
   "metadata": {},
   "source": [
    "#### 3.2. Market data"
   ]
  },
  {
   "cell_type": "code",
   "execution_count": null,
   "id": "dc363f89",
   "metadata": {},
   "outputs": [],
   "source": [
    "markets = pd.read_csv('../../__OPTIONS/Sector_Industry_Country_MarketCap.csv')\n",
    "markets = markets.rename(columns={'Ticker': 'base_symbol'})\n",
    "markets = markets[[\"base_symbol\",\"Sector\", \"Industry\", \"Country\"]].copy()\n",
    "print(markets.shape)\n",
    "markets.describe()"
   ]
  },
  {
   "cell_type": "code",
   "execution_count": null,
   "id": "6b0ecf5b",
   "metadata": {},
   "outputs": [],
   "source": [
    "display(markets.head())"
   ]
  },
  {
   "cell_type": "code",
   "execution_count": null,
   "id": "228ffbf0",
   "metadata": {},
   "outputs": [],
   "source": [
    "markets_one_hot = pd.get_dummies(markets[['Sector', 'Country']])"
   ]
  },
  {
   "cell_type": "code",
   "execution_count": null,
   "id": "c223ff1c",
   "metadata": {},
   "outputs": [],
   "source": [
    "markets = markets.join(markets_one_hot)\n",
    "print(markets.shape)\n",
    "markets.describe()"
   ]
  },
  {
   "cell_type": "code",
   "execution_count": null,
   "id": "c44446a4",
   "metadata": {},
   "outputs": [],
   "source": [
    "display(markets.head())"
   ]
  },
  {
   "cell_type": "markdown",
   "id": "inner-masters",
   "metadata": {},
   "source": [
    "#### 3.3. Dataset"
   ]
  },
  {
   "cell_type": "code",
   "execution_count": null,
   "id": "d63e6489",
   "metadata": {},
   "outputs": [],
   "source": [
    "train = train.join(\n",
    "    markets.set_index('base_symbol'),\n",
    "    on=['base_symbol'], \n",
    "    how='left'\n",
    ")\n",
    "print(train.shape)\n",
    "display(train.head())"
   ]
  },
  {
   "cell_type": "code",
   "execution_count": null,
   "id": "87327a1a",
   "metadata": {},
   "outputs": [],
   "source": [
    "train = train.dropna()\n",
    "print(train.shape)\n",
    "display(train.head())"
   ]
  },
  {
   "cell_type": "code",
   "execution_count": null,
   "id": "5de3bffa",
   "metadata": {},
   "outputs": [],
   "source": [
    "train['Sector'].groupby(train['Sector']).count()"
   ]
  },
  {
   "cell_type": "code",
   "execution_count": null,
   "id": "4fa04db2",
   "metadata": {},
   "outputs": [],
   "source": [
    "markets['Country'].groupby(markets['Country']).count()"
   ]
  },
  {
   "cell_type": "code",
   "execution_count": null,
   "id": "modified-castle",
   "metadata": {},
   "outputs": [],
   "source": [
    "train['Country'].groupby(train['Country']).count()"
   ]
  },
  {
   "cell_type": "code",
   "execution_count": null,
   "id": "836b16e9",
   "metadata": {},
   "outputs": [],
   "source": [
    "train = train.drop([\n",
    "    'Unnamed: 0',\n",
    "    'base_price',\n",
    "    'base_symbol',\n",
    "    'strike_over_base',\n",
    "    'Sector',\n",
    "    'Industry',\n",
    "    'Country'], axis=1)\n",
    "print(train.shape)\n",
    "display(train.head())"
   ]
  },
  {
   "cell_type": "code",
   "execution_count": null,
   "id": "outstanding-brook",
   "metadata": {},
   "outputs": [],
   "source": [
    "train.describe()"
   ]
  },
  {
   "cell_type": "code",
   "execution_count": null,
   "id": "corporate-sucking",
   "metadata": {},
   "outputs": [],
   "source": [
    "train.info()"
   ]
  },
  {
   "cell_type": "markdown",
   "id": "under-flooring",
   "metadata": {},
   "source": [
    "#### 3.4. Train test split (if needed)"
   ]
  },
  {
   "cell_type": "code",
   "execution_count": null,
   "id": "bf8491ac",
   "metadata": {},
   "outputs": [],
   "source": [
    "target_col = 'bid_ask_mean'\n",
    "feats_cols = [x for x in train.columns if x not in target_col]"
   ]
  },
  {
   "cell_type": "code",
   "execution_count": null,
   "id": "9d352a21",
   "metadata": {},
   "outputs": [],
   "source": [
    "X_train, X_test, y_train, y_test = train_test_split(\n",
    "    train[feats_cols], \n",
    "    train[target_col], \n",
    "    test_size=.3, \n",
    "    random_state=2022\n",
    ")\n",
    "print(f'X_train shape: {X_train.shape}')\n",
    "print(f'y_train shape: {y_train.shape}')\n",
    "print(f'X_test shape: {X_test.shape}')\n",
    "print(f'y_test shape: {y_test.shape}')"
   ]
  },
  {
   "cell_type": "markdown",
   "id": "eastern-wales",
   "metadata": {},
   "source": [
    "### 4. Model"
   ]
  },
  {
   "cell_type": "markdown",
   "id": "chronic-truck",
   "metadata": {},
   "source": [
    "#### 4.1. Metrics"
   ]
  },
  {
   "cell_type": "code",
   "execution_count": null,
   "id": "5784d10d",
   "metadata": {},
   "outputs": [],
   "source": [
    "def mape(y_true, y_pred): \n",
    "    y_true, y_pred = np.array(y_true), np.array(y_pred)\n",
    "    mask = y_true != 0\n",
    "    return np.mean(np.abs((y_true - y_pred) / (y_true + 1))[mask]) * 100\n",
    "\n",
    "def wmape(y_true, y_pred): \n",
    "    y_true, y_pred = np.array(y_true), np.array(y_pred)\n",
    "    return np.sum(np.abs(y_true - y_pred)) / np.sum(y_true) * 100"
   ]
  },
  {
   "cell_type": "markdown",
   "id": "complete-dress",
   "metadata": {},
   "source": [
    "#### 4.2. Search for best parameters"
   ]
  },
  {
   "cell_type": "code",
   "execution_count": null,
   "id": "patient-fireplace",
   "metadata": {},
   "outputs": [],
   "source": [
    "def objective(trial):\n",
    "    \n",
    "    # parameters intervals to search within\n",
    "    \n",
    "    params = {\n",
    "        'objective': 'rmse',\n",
    "        'boosting_type': 'gbdt',\n",
    "        'learning_rate': trial.suggest_uniform('learning_rate', .01, .5),\n",
    "        'lambda_l1': trial.suggest_loguniform('lambda_l1', 1e-8, 10),\n",
    "        'lambda_l2': trial.suggest_loguniform('lambda_l2', 1e-8, 10),\n",
    "        'num_leaves': trial.suggest_int('num_leaves', 2, 256),\n",
    "        'feature_fraction': trial.suggest_uniform('feature_fraction', .4, 1),\n",
    "        'bagging_fraction': trial.suggest_uniform('bagging_fraction', .4, 1),\n",
    "        'bagging_freq': trial.suggest_int('bagging_freq', 1, 7),\n",
    "        'min_child_samples': trial.suggest_int('min_child_samples', 5, 500),\n",
    "        #'categorical_column': [0],\n",
    "        'seed': CONFIG['seed'],\n",
    "        'n_jobs': CONFIG['n_jobs'],\n",
    "        'verbose': 1\n",
    "    }\n",
    "    \n",
    "    # split dataset for train-validation\n",
    "    \n",
    "    features = [col for col in train.columns \n",
    "                if col not in ['bid_ask_mean']]\n",
    "    y = train['bid_ask_mean']\n",
    "    oof_predictions = np.zeros(train.shape[0])\n",
    "    kfold = KFold(\n",
    "        n_splits=CONFIG['folds'], \n",
    "        random_state=CONFIG['seed'], \n",
    "        shuffle=True\n",
    "    ).split(train)\n",
    "    \n",
    "    # train loop\n",
    "    \n",
    "    for fold, (trn_ind, val_ind) in enumerate(kfold):\n",
    "        print(f'========== FOLD: {fold} ==========')\n",
    "        x_train, x_val = train.iloc[trn_ind], train.iloc[val_ind]\n",
    "        y_train, y_val = y.iloc[trn_ind], y.iloc[val_ind]\n",
    "        train_dataset = lgb.Dataset(x_train[features], y_train)\n",
    "        val_dataset = lgb.Dataset(x_val[features], y_val)\n",
    "        \n",
    "        # LGBM regression\n",
    "        \n",
    "        model = lgb.train(params=params,\n",
    "                          num_boost_round=CONFIG['iters'],\n",
    "                          train_set=train_dataset, \n",
    "                          valid_sets=[train_dataset, val_dataset], \n",
    "                          verbose_eval=int(CONFIG['iters'] / 5),\n",
    "                          early_stopping_rounds=CONFIG['patience'])\n",
    "        \n",
    "        # OOF test for vaidation\n",
    "        \n",
    "        oof_predictions[val_ind] = model.predict(x_val[features])\n",
    "    \n",
    "    # metrics\n",
    "    \n",
    "    mape_score = mape(y, oof_predictions)\n",
    "    wmape_score = wmape(y, oof_predictions)\n",
    "    rmse_score = mean_squared_error(y, oof_predictions)\n",
    "    print(\n",
    "        f' OOF (out-of-fold) MAPE score: {mape_score}\\n',\n",
    "        f'OOF (out-of-fold) Weighted MAPE score: {wmape_score}\\n',\n",
    "        f'OOF (out-of-fold) RMSE score: {rmse_score}\\n\\n\\n',\n",
    "    )\n",
    "    return rmse_score"
   ]
  },
  {
   "cell_type": "code",
   "execution_count": null,
   "id": "green-signature",
   "metadata": {},
   "outputs": [],
   "source": [
    "# optuna init and run\n",
    "\n",
    "study = optuna.create_study(direction='minimize')\n",
    "study.optimize(objective, n_trials=CONFIG['max_trials'])\n",
    "\n",
    "# save best parameters\n",
    "\n",
    "params = study.best_params\n",
    "print('optuna search best params:', params)\n",
    "with open(f'{MDLS_PATH}/lgb_params.json', 'w') as file:\n",
    "    json.dump(params, file)"
   ]
  },
  {
   "cell_type": "markdown",
   "id": "applied-testament",
   "metadata": {},
   "source": [
    "#### 4.3. Train with best parameters"
   ]
  },
  {
   "cell_type": "code",
   "execution_count": null,
   "id": "divine-search",
   "metadata": {},
   "outputs": [],
   "source": [
    "def train_and_evaluate_lgb(train, params):\n",
    "    features = [col for col in train.columns \n",
    "                if col not in ['bid_ask_mean']]\n",
    "    y = train['bid_ask_mean']\n",
    "    oof_predictions = np.zeros(train.shape[0])\n",
    "    kfold = KFold(\n",
    "        n_splits=CONFIG['folds'], \n",
    "        random_state=CONFIG['seed'], \n",
    "        shuffle=True\n",
    "    ).split(train)\n",
    "    for fold, (trn_ind, val_ind) in enumerate(kfold):\n",
    "        print(f'========== FOLD: {fold} ==========')\n",
    "        x_train, x_val = train.iloc[trn_ind], train.iloc[val_ind]\n",
    "        y_train, y_val = y.iloc[trn_ind], y.iloc[val_ind]\n",
    "        train_dataset = lgb.Dataset(x_train[features], y_train)\n",
    "        val_dataset = lgb.Dataset(x_val[features], y_val)\n",
    "        model = lgb.train(params=params,\n",
    "                          num_boost_round=CONFIG['iters'],\n",
    "                          train_set=train_dataset, \n",
    "                          valid_sets=[train_dataset, val_dataset], \n",
    "                          verbose_eval=int(CONFIG['iters'] / 5),\n",
    "                          early_stopping_rounds=CONFIG['patience'])\n",
    "        model.save_model(f'{MDLS_PATH}/model_lgb_fold{fold}.lgbm', \n",
    "                         num_iteration=model.best_iteration)\n",
    "        oof_predictions[val_ind] = model.predict(x_val[features])\n",
    "    lgb.plot_importance(model, max_num_features=10)\n",
    "    mape_score = mape(y, oof_predictions)\n",
    "    wmape_score = wmape(y, oof_predictions)\n",
    "    rmse_score = mean_squared_error(y, oof_predictions)\n",
    "    print(\n",
    "        f' OOF (out-of-fold) MAPE score: {mape_score}\\n',\n",
    "        f'OOF (out-of-fold) Weighted MAPE score: {wmape_score}\\n',\n",
    "        f'OOF (out-of-fold) RMSE score: {rmse_score}\\n\\n\\n',\n",
    "    )\n",
    "    return mape_score, wmape_score, rmse_score"
   ]
  },
  {
   "cell_type": "code",
   "execution_count": null,
   "id": "pleased-attendance",
   "metadata": {},
   "outputs": [],
   "source": [
    "with open(f'{MDLS_PATH}/lgb_params.json', 'r') as file:\n",
    "    params = json.load(file)\n",
    "print('lgb params loaded:', params)"
   ]
  },
  {
   "cell_type": "code",
   "execution_count": null,
   "id": "promotional-stability",
   "metadata": {},
   "outputs": [],
   "source": [
    "mape_score, wmape_score, rmse_score = train_and_evaluate_lgb(train, params)"
   ]
  },
  {
   "cell_type": "code",
   "execution_count": null,
   "id": "naval-flexibility",
   "metadata": {},
   "outputs": [],
   "source": []
  }
 ],
 "metadata": {
  "kernelspec": {
   "display_name": "Python 3",
   "language": "python",
   "name": "python3"
  },
  "language_info": {
   "codemirror_mode": {
    "name": "ipython",
    "version": 3
   },
   "file_extension": ".py",
   "mimetype": "text/x-python",
   "name": "python",
   "nbconvert_exporter": "python",
   "pygments_lexer": "ipython3",
   "version": "3.8.6"
  }
 },
 "nbformat": 4,
 "nbformat_minor": 5
}
