{
 "cells": [
  {
   "cell_type": "markdown",
   "id": "separated-repair",
   "metadata": {},
   "source": [
    "# Applied Project in Big Data on Industrial Dataset"
   ]
  },
  {
   "cell_type": "markdown",
   "id": "placed-convention",
   "metadata": {},
   "source": [
    "## BUSINESS EFFECT OF THE MODEL\n",
    "## Part I. Demo model"
   ]
  },
  {
   "cell_type": "markdown",
   "id": "artificial-immune",
   "metadata": {},
   "source": [
    "### 1. Libraries"
   ]
  },
  {
   "cell_type": "code",
   "execution_count": null,
   "id": "creative-frontier",
   "metadata": {},
   "outputs": [],
   "source": [
    "import os\n",
    "import re\n",
    "import json\n",
    "import math\n",
    "import numpy as np\n",
    "import pandas as pd\n",
    "from tqdm.auto import tqdm\n",
    "import matplotlib.pyplot as plt\n",
    "import multiprocessing\n",
    "from multiprocessing import Pool\n",
    "from sklearn.feature_extraction.text import (\n",
    "    TfidfVectorizer, \n",
    "    CountVectorizer\n",
    ")\n",
    "from sklearn.metrics import (\n",
    "    roc_auc_score,\n",
    "    accuracy_score, \n",
    "    confusion_matrix, \n",
    "    precision_score, \n",
    "    recall_score, \n",
    "    f1_score,\n",
    "    roc_curve, \n",
    "    auc,\n",
    "    confusion_matrix,\n",
    "    ConfusionMatrixDisplay,\n",
    "    precision_recall_curve,\n",
    "    PrecisionRecallDisplay\n",
    ")\n",
    "from sklearn.model_selection import train_test_split\n",
    "from sklearn.linear_model import LogisticRegression\n",
    "from sklearn.ensemble import RandomForestClassifier\n",
    "from sklearn.model_selection import (\n",
    "    cross_val_score, \n",
    "    train_test_split,\n",
    "    StratifiedKFold\n",
    ")\n",
    "pd.set_option('display.max_columns', None)\n",
    "N_CORES = min(\n",
    "    multiprocessing.cpu_count(), \n",
    "    int(float(os.environ['CPU_LIMIT']))\n",
    ")\n",
    "print('cores:', N_CORES)"
   ]
  },
  {
   "cell_type": "markdown",
   "id": "vocational-virtue",
   "metadata": {},
   "source": [
    "### 2. Create a small dataset for demo"
   ]
  },
  {
   "cell_type": "code",
   "execution_count": null,
   "id": "classical-mapping",
   "metadata": {},
   "outputs": [],
   "source": [
    "SAMPLE_SIZE = 2500\n",
    "BAD_SHARE = .2"
   ]
  },
  {
   "cell_type": "code",
   "execution_count": null,
   "id": "grand-willow",
   "metadata": {},
   "outputs": [],
   "source": [
    "df = pd.read_csv('../topic_4/data_white_en.csv')\n",
    "df = df.sample(SAMPLE_SIZE).reset_index()\n",
    "del df['index']\n",
    "df['label'] = 0\n",
    "print(df.shape)\n",
    "display(df.head())"
   ]
  },
  {
   "cell_type": "code",
   "execution_count": null,
   "id": "covered-hawaiian",
   "metadata": {},
   "outputs": [],
   "source": [
    "df_tmp = pd.read_csv('../topic_4/data_black_en.csv')\n",
    "df_tmp = df_tmp.sample(int(SAMPLE_SIZE * BAD_SHARE)).reset_index()\n",
    "del df_tmp['index']\n",
    "df_tmp['label'] = 1\n",
    "print(df_tmp.shape)\n",
    "display(df_tmp.head())"
   ]
  },
  {
   "cell_type": "code",
   "execution_count": null,
   "id": "spoken-newcastle",
   "metadata": {},
   "outputs": [],
   "source": [
    "df = df.append(df_tmp)\n",
    "df.reset_index(inplace=True)\n",
    "del df['index']\n",
    "print(df.shape)\n",
    "display(df.head())"
   ]
  },
  {
   "cell_type": "markdown",
   "id": "second-elements",
   "metadata": {},
   "source": [
    "### 3. Simple model"
   ]
  },
  {
   "cell_type": "code",
   "execution_count": null,
   "id": "d3f6e15d",
   "metadata": {},
   "outputs": [],
   "source": [
    "MAX_DF = .975\n",
    "MIN_DF = 5\n",
    "NGRAM = (1, 3)"
   ]
  },
  {
   "cell_type": "code",
   "execution_count": null,
   "id": "found-anchor",
   "metadata": {},
   "outputs": [],
   "source": [
    "def text_features(data, vectorizer, verbose=True):\n",
    "    if verbose: print('total texts:', len(data))\n",
    "    features = vectorizer.fit_transform(data)\n",
    "    if verbose:\n",
    "        print(\n",
    "            'features shape:', features.shape, \n",
    "            'max:', np.max(features), \n",
    "            'min:', np.min(features)\n",
    "        )\n",
    "    return features, vectorizer"
   ]
  },
  {
   "cell_type": "code",
   "execution_count": null,
   "id": "embedded-sweet",
   "metadata": {},
   "outputs": [],
   "source": [
    "%%time\n",
    "vectorizer=TfidfVectorizer(\n",
    "    ngram_range=NGRAM, \n",
    "    max_df=MAX_DF, \n",
    "    min_df=MIN_DF\n",
    ")\n",
    "features, vectorizer = text_features(\n",
    "    df['proc'], \n",
    "    vectorizer=vectorizer\n",
    ")"
   ]
  },
  {
   "cell_type": "code",
   "execution_count": null,
   "id": "6030ea43",
   "metadata": {},
   "outputs": [],
   "source": [
    "X_train, X_test, y_train, y_test = train_test_split(\n",
    "    df['proc'], \n",
    "    df['label'], \n",
    "    test_size=.3, \n",
    "    stratify=df['label'],\n",
    "    random_state=2022\n",
    ")\n",
    "X_train, vectorizer = text_features(\n",
    "    X_train, \n",
    "    vectorizer=vectorizer\n",
    ")\n",
    "X_test = vectorizer.transform(X_test)\n",
    "clf = LogisticRegression()\n",
    "clf.fit(X_train, y_train)\n",
    "y_pred = clf.predict(X_test)"
   ]
  },
  {
   "cell_type": "code",
   "execution_count": null,
   "id": "24c57c79",
   "metadata": {},
   "outputs": [],
   "source": [
    "clf.get_params()"
   ]
  },
  {
   "cell_type": "code",
   "execution_count": null,
   "id": "legitimate-click",
   "metadata": {},
   "outputs": [],
   "source": [
    "y_score = clf.predict_proba(X_test)"
   ]
  },
  {
   "cell_type": "code",
   "execution_count": null,
   "id": "gorgeous-traveler",
   "metadata": {},
   "outputs": [],
   "source": [
    "# Scikit-learn Example of Receiver Operating Characteristic (ROC) \n",
    "# metric to evaluate classifier output quality.\n",
    "# https://scikit-learn.org/stable/auto_examples/model_selection/plot_roc.html\n",
    "\n",
    "fpr, tpr, thresholds = roc_curve(y_test, y_score[:, 1])\n",
    "roc_auc = auc(fpr, tpr)\n",
    "roc_auc"
   ]
  },
  {
   "cell_type": "code",
   "execution_count": null,
   "id": "convenient-rings",
   "metadata": {},
   "outputs": [],
   "source": [
    "prec, recall, _ = precision_recall_curve(\n",
    "    y_test,\n",
    "    y_score[:, 1], \n",
    "    pos_label=clf.classes_[1]\n",
    ")\n",
    "fig, ax = plt.subplots(figsize=(8, 6))\n",
    "pr_display = PrecisionRecallDisplay(precision=prec, recall=recall)\n",
    "pr_display.plot(ax=ax)"
   ]
  },
  {
   "cell_type": "code",
   "execution_count": null,
   "id": "passing-adapter",
   "metadata": {},
   "outputs": [],
   "source": [
    "plt.figure(figsize=(8, 6))\n",
    "lw = 2\n",
    "plt.plot(\n",
    "    fpr,\n",
    "    tpr,\n",
    "    color='darkorange',\n",
    "    lw=lw,\n",
    "    label='ROC curve (area = %0.2f)' % roc_auc,\n",
    ")\n",
    "plt.plot([0, 1], [0, 1], color='navy', lw=lw, linestyle='--')\n",
    "plt.xlim([0.0, 1.0])\n",
    "plt.ylim([0.0, 1.05])\n",
    "plt.xlabel('False Positive Rate')\n",
    "plt.ylabel('True Positive Rate')\n",
    "plt.title('Receiver operating characteristic example')\n",
    "plt.legend(loc='lower right')\n",
    "plt.show()"
   ]
  },
  {
   "cell_type": "code",
   "execution_count": null,
   "id": "australian-grounds",
   "metadata": {},
   "outputs": [],
   "source": [
    "THRESHOLD = .1\n",
    "cm = confusion_matrix(y_test, y_score[:, 1] > THRESHOLD)\n",
    "cm_display = ConfusionMatrixDisplay(cm)\n",
    "fig, ax = plt.subplots(figsize=(8, 8))\n",
    "cm_display.plot(ax=ax)"
   ]
  },
  {
   "cell_type": "code",
   "execution_count": null,
   "id": "7a334378",
   "metadata": {},
   "outputs": [],
   "source": [
    "cm"
   ]
  },
  {
   "cell_type": "code",
   "execution_count": null,
   "id": "4aad382c",
   "metadata": {},
   "outputs": [],
   "source": [
    "tp = cm[0, 0]\n",
    "tn = cm[1, 1]\n",
    "fp = cm[0, 1]\n",
    "fn = cm[1, 0]\n",
    "print(\n",
    "    ' true positives: ', tp, '\\n',\n",
    "    'true negatives: ', tn, '\\n',\n",
    "    'false positives:', fp, '\\n',\n",
    "    'false negatives:', fn, '\\n',\n",
    ")"
   ]
  },
  {
   "cell_type": "markdown",
   "id": "7f65c9d4",
   "metadata": {},
   "source": [
    "### 4. Assumptions"
   ]
  },
  {
   "cell_type": "markdown",
   "id": "2ab46acd",
   "metadata": {},
   "source": [
    "Let's assume:\n",
    "- payment for one click, POC = money we get from one user's click on a banner\n",
    "- chance of user's click, CHANCE = not all banners are clicked by users, only part of them \n",
    "- fine for a wrong site for a banner, FINE = we are ALWAYS penalized for a wrong recommendation (just assume that fact) "
   ]
  },
  {
   "cell_type": "code",
   "execution_count": null,
   "id": "5d4887fe",
   "metadata": {},
   "outputs": [],
   "source": [
    "# all is RUB except chances or probabilities\n",
    "POC = 100\n",
    "CHANCE = .05\n",
    "FINE = 1000"
   ]
  },
  {
   "cell_type": "code",
   "execution_count": null,
   "id": "71a6e33c",
   "metadata": {},
   "outputs": [],
   "source": [
    "# NOTE:\n",
    "# model is simplified, we did not consider \n",
    "# number of shows or time factor into the formula\n",
    "# We also did not consider costs, \n",
    "# here is part of net income only\n",
    "\n",
    "fin_effect = tp * POC * CHANCE - fn * FINE\n",
    "print('financial effect:', fin_effect, 'RUR')"
   ]
  },
  {
   "cell_type": "markdown",
   "id": "fc1601f8",
   "metadata": {},
   "source": [
    "### 5. Optimal values"
   ]
  },
  {
   "cell_type": "code",
   "execution_count": null,
   "id": "be52c8af",
   "metadata": {},
   "outputs": [],
   "source": [
    "def model_fin_effect(df, \n",
    "                     n_gram, max_df, min_df, \n",
    "                     th, \n",
    "                     poc, chance, fine):\n",
    "    \n",
    "    # --- vectorizer ---\n",
    "    \n",
    "    vectorizer=TfidfVectorizer(\n",
    "        ngram_range=NGRAM, \n",
    "        max_df=max_df, \n",
    "        min_df=min_df\n",
    "    )\n",
    "    \n",
    "    # --- train test split ---\n",
    "    \n",
    "    X_train, X_test, y_train, y_test = train_test_split(\n",
    "        df['proc'], \n",
    "        df['label'], \n",
    "        test_size=.3, \n",
    "        stratify=df['label'],\n",
    "        random_state=2022\n",
    "    )\n",
    "    X_train, vectorizer = text_features(\n",
    "        X_train, \n",
    "        vectorizer=vectorizer,\n",
    "        verbose=False\n",
    "    )\n",
    "    X_test = vectorizer.transform(X_test)\n",
    "    clf = LogisticRegression()\n",
    "    clf.fit(X_train, y_train)\n",
    "    y_pred = clf.predict(X_test)\n",
    "    \n",
    "    # --- predictions and metrics ---\n",
    "    \n",
    "    y_score = clf.predict_proba(X_test)\n",
    "    fpr, tpr, ths_rocauc = roc_curve(y_test, y_score[:, 1])\n",
    "    roc_auc = auc(fpr, tpr)\n",
    "    prec, recall, ths_pr = precision_recall_curve(\n",
    "        y_test,\n",
    "        y_score[:, 1], \n",
    "        pos_label=clf.classes_[1]\n",
    "    )\n",
    "    cm = confusion_matrix(y_test, y_score[:, 1] > th)\n",
    "    \n",
    "    # --- fin effect ---\n",
    "    \n",
    "    tp = cm[0, 0]\n",
    "    tn = cm[1, 1]\n",
    "    fp = cm[0, 1]\n",
    "    fn = cm[1, 0]\n",
    "    fin_effect = tp * poc * chance - fn * fine\n",
    "    \n",
    "    return fin_effect, fpr, tpr, ths_rocauc, prec, recall, ths_pr"
   ]
  },
  {
   "cell_type": "code",
   "execution_count": null,
   "id": "a248a45d",
   "metadata": {},
   "outputs": [],
   "source": [
    "# all parameters\n",
    "MAX_DF = .975\n",
    "MIN_DF = 15\n",
    "NGRAM = (1, 2)\n",
    "THRESHOLD = .1\n",
    "POC = 100\n",
    "CHANCE = .05\n",
    "FINE = 500\n",
    "\n",
    "# get effect\n",
    "fin_effect, fpr, tpr, ths_rocauc, prec, recall, ths_pr = model_fin_effect(\n",
    "    df=df,\n",
    "    n_gram=NGRAM, max_df=MAX_DF, min_df=MIN_DF,\n",
    "    th=THRESHOLD, \n",
    "    poc=POC, chance=CHANCE, fine=FINE\n",
    ")\n",
    "print('financial effect:', fin_effect, 'RUR')"
   ]
  },
  {
   "cell_type": "code",
   "execution_count": null,
   "id": "df0ff03f",
   "metadata": {},
   "outputs": [],
   "source": [
    "%%time\n",
    "plt.figure(figsize=(16, 8))\n",
    "plt.xlabel('threshold')\n",
    "plt.ylabel('financial effect, RUR')\n",
    "\n",
    "ths = np.linspace(0, 1, 21)\n",
    "fin_effs = []\n",
    "fin_eff_max = -math.inf\n",
    "best_th = 0\n",
    "\n",
    "for th in tqdm(ths):\n",
    "    fin_effect, fpr, tpr, ths_rocauc, prec, recall, ths_pr = model_fin_effect(\n",
    "        df=df,\n",
    "        n_gram=NGRAM, max_df=MAX_DF, min_df=MIN_DF,\n",
    "        th=th, \n",
    "        poc=POC, chance=CHANCE, fine=FINE\n",
    "    )\n",
    "    if fin_effect > fin_eff_max:\n",
    "        fin_eff_max = fin_effect\n",
    "        best_th = th\n",
    "    fin_effs.append(fin_effect)           \n",
    "\n",
    "plt.title(f'Max financial effect {fin_eff_max:.1f} RUR with threshold {best_th:.2f}')\n",
    "plt.plot(ths, fin_effs, color='b')\n",
    "plt.scatter(best_th, fin_eff_max, c='red')\n",
    "plt.annotate(f'{fin_eff_max:.1f} RUR', xy=(best_th, fin_eff_max))\n",
    "plt.show()"
   ]
  },
  {
   "cell_type": "markdown",
   "id": "a2fca6fd",
   "metadata": {},
   "source": [
    "### 6. Recommendations"
   ]
  },
  {
   "cell_type": "markdown",
   "id": "bcdd23da",
   "metadata": {},
   "source": [
    "Here are some:\n",
    "- to speed up the process: use saved models to make a prediction, do not train them from the scratch\n",
    "- be careful with train-test split, use data that models never see\n",
    "- connect metrics and financial effect to show business how metrics' improvement affects financial results"
   ]
  },
  {
   "cell_type": "code",
   "execution_count": null,
   "id": "97f509a9",
   "metadata": {},
   "outputs": [],
   "source": []
  }
 ],
 "metadata": {
  "kernelspec": {
   "display_name": "Python 3",
   "language": "python",
   "name": "python3"
  },
  "language_info": {
   "codemirror_mode": {
    "name": "ipython",
    "version": 3
   },
   "file_extension": ".py",
   "mimetype": "text/x-python",
   "name": "python",
   "nbconvert_exporter": "python",
   "pygments_lexer": "ipython3",
   "version": "3.8.6"
  }
 },
 "nbformat": 4,
 "nbformat_minor": 5
}
