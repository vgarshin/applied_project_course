{
 "cells": [
  {
   "cell_type": "markdown",
   "id": "proved-operations",
   "metadata": {},
   "source": [
    "# Applied Project in Big Data on Industrial Dataset"
   ]
  },
  {
   "cell_type": "markdown",
   "id": "blank-homeless",
   "metadata": {},
   "source": [
    "## DATA PROCESSING TECHNIQUES\n",
    "## Part II. Full example how to collect data"
   ]
  },
  {
   "cell_type": "markdown",
   "id": "functioning-capitol",
   "metadata": {},
   "source": [
    "### 1. Libraries"
   ]
  },
  {
   "cell_type": "code",
   "execution_count": null,
   "id": "creative-frontier",
   "metadata": {},
   "outputs": [],
   "source": [
    "import os\n",
    "import re\n",
    "import http\n",
    "import json\n",
    "import numpy as np\n",
    "import pandas as pd\n",
    "from tqdm.auto import tqdm\n",
    "from random import randint\n",
    "from urllib.request import (\n",
    "    Request, \n",
    "    urlopen)\n",
    "from time import sleep\n",
    "from bs4 import BeautifulSoup\n",
    "from langdetect import detect\n",
    "import matplotlib.pyplot as plt\n",
    "pd.set_option('display.max_columns', None)"
   ]
  },
  {
   "cell_type": "markdown",
   "id": "downtown-porcelain",
   "metadata": {},
   "source": [
    "### 2. Some parameters and functions for scraping"
   ]
  },
  {
   "cell_type": "code",
   "execution_count": null,
   "id": "d9cd1a2a",
   "metadata": {},
   "outputs": [],
   "source": [
    "WORK_PATH = '.'\n",
    "os.listdir(WORK_PATH + '/data')"
   ]
  },
  {
   "cell_type": "code",
   "execution_count": null,
   "id": "foreign-fisher",
   "metadata": {},
   "outputs": [],
   "source": [
    "# example for sites from black-list\n",
    "file_path = WORK_PATH + '/data/blacklist-HTTP-only.txt'\n",
    "df = pd.read_csv(file_path, header=None)\n",
    "print(df.shape)\n",
    "display(df.head())"
   ]
  },
  {
   "cell_type": "code",
   "execution_count": null,
   "id": "ranging-waterproof",
   "metadata": {},
   "outputs": [],
   "source": [
    "# create url colunm to scrap sites\n",
    "df.columns = ['url']\n",
    "df['url'] = 'http://' + df['url']\n",
    "display(df.head())"
   ]
  },
  {
   "cell_type": "code",
   "execution_count": null,
   "id": "finished-medicine",
   "metadata": {},
   "outputs": [],
   "source": [
    "# data folder\n",
    "RAW_DATA_PATH = 'raw_data_black'"
   ]
  },
  {
   "cell_type": "code",
   "execution_count": null,
   "id": "thermal-japan",
   "metadata": {},
   "outputs": [],
   "source": [
    "# we need user agent to lokk like usual browser\n",
    "USER_AGENT = 'Mozilla/5.0 (Windows NT 6.1; WOW64) AppleWebKit/537.36 (KHTML, like Gecko) Chrome/74.0.3729.169 YaBrowser/19.6.1.153 Yowser/2.5 Safari/537.36'\n",
    "MIN_TIME_SLEEP = 1\n",
    "MAX_TIME_SLEEP = 3\n",
    "MAX_COUNTS = 2\n",
    "TIMEOUT = 10"
   ]
  },
  {
   "cell_type": "code",
   "execution_count": null,
   "id": "e743d885",
   "metadata": {},
   "outputs": [],
   "source": [
    "def html_content(url_page, max_counts, timeout=10):\n",
    "    \"\"\"\n",
    "    Function collects html page from site by url\n",
    "      :max_count: maximum counts to retry get data from site\n",
    "      :timeout: just keep it 10-15 seconds\n",
    "    \n",
    "    \"\"\"\n",
    "    counts = 0\n",
    "    content = None\n",
    "    while counts < max_counts:\n",
    "        try:\n",
    "            request = Request(url_page)\n",
    "            request.add_header('User-Agent', USER_AGENT)\n",
    "            response = urlopen(request, timeout=timeout)\n",
    "            content = response.read().decode(response.headers.get_content_charset())\n",
    "            break\n",
    "        except Exception as e:\n",
    "            counts += 1\n",
    "            print('Error | ', url_page, ' | ', e, ' | counts: ', counts)\n",
    "            sleep(randint(counts * MIN_TIME_SLEEP, counts * MAX_TIME_SLEEP))\n",
    "    return content"
   ]
  },
  {
   "cell_type": "markdown",
   "id": "hidden-aviation",
   "metadata": {},
   "source": [
    "### 3. Scraping loop"
   ]
  },
  {
   "cell_type": "code",
   "execution_count": null,
   "id": "1a09b978",
   "metadata": {},
   "outputs": [],
   "source": [
    "# create data folder if not exists\n",
    "os.makedirs(f'{WORK_PATH}/{RAW_DATA_PATH}', exist_ok=True)"
   ]
  },
  {
   "cell_type": "code",
   "execution_count": null,
   "id": "376fc121",
   "metadata": {},
   "outputs": [],
   "source": [
    "# loop for collecting sites\n",
    "# some sites do not exist already, so errors could happen\n",
    "# you can do the same loop for while-list files but save it to another folder\n",
    "\n",
    "for url in tqdm(df.url):\n",
    "    print('processing', url)\n",
    "    html = html_content(url, max_counts=MAX_COUNTS, timeout=TIMEOUT)\n",
    "    file_name = url.replace('http://', '')\n",
    "    file_name = re.sub('[^a-zA-Z0-9_]', '', file_name)\n",
    "    if html:\n",
    "        with open(f'{WORK_PATH}/{RAW_DATA_PATH}/{file_name}.html', 'w', encoding='utf-8') as file:\n",
    "            file.write(html)"
   ]
  },
  {
   "cell_type": "code",
   "execution_count": null,
   "id": "embedded-sweet",
   "metadata": {},
   "outputs": [],
   "source": []
  },
  {
   "cell_type": "code",
   "execution_count": null,
   "id": "e7f37390",
   "metadata": {},
   "outputs": [],
   "source": []
  }
 ],
 "metadata": {
  "kernelspec": {
   "display_name": "Python 3",
   "language": "python",
   "name": "python3"
  },
  "language_info": {
   "codemirror_mode": {
    "name": "ipython",
    "version": 3
   },
   "file_extension": ".py",
   "mimetype": "text/x-python",
   "name": "python",
   "nbconvert_exporter": "python",
   "pygments_lexer": "ipython3",
   "version": "3.8.6"
  }
 },
 "nbformat": 4,
 "nbformat_minor": 5
}
